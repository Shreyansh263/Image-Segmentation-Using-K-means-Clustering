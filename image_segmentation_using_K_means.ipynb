{
 "cells": [
  {
   "cell_type": "markdown",
   "metadata": {},
   "source": [
    "Part 1 question 2 \n",
    "Group Id : ViDiSh \n",
    "Group Members : Divya Mishra, Shreyansh Aswal, Vipin Gautam"
   ]
  },
  {
   "cell_type": "code",
   "execution_count": 8,
   "metadata": {},
   "outputs": [],
   "source": [
    "import sys\n",
    "sys.path.append(\"C:\\\\Python39\\\\Lib\\\\site-packages\")\n",
    "import cv2 as cv\n",
    "import numpy as np\n",
    "\n",
    "image = cv.imread(\"C:\\\\Users\\\\user\\\\Downloads\\\\colors.jpg\")\n",
    "k=32\n",
    "centroids=np.zeros(k*3).reshape(k,3)\n",
    "\n",
    "#shape of the image is in the form (height, width, number_of_channels)\n",
    "height = image.shape[0]\n",
    "width = image.shape[1]\n",
    "num_pixels=height*width\n"
   ]
  },
  {
   "cell_type": "markdown",
   "metadata": {},
   "source": [
    "Assigning initial values to the 32 centroids"
   ]
  },
  {
   "cell_type": "code",
   "execution_count": 9,
   "metadata": {},
   "outputs": [],
   "source": [
    "def initialize_centroids():\n",
    "    j=1\n",
    "    for i in range(k):\n",
    "        centroids[i][0]=j\n",
    "        centroids[i][1]=j+3\n",
    "        centroids[i][2]=j+7\n",
    "        j+=5\n"
   ]
  },
  {
   "cell_type": "markdown",
   "metadata": {},
   "source": [
    "To Calculate the Cluster of a given pixel"
   ]
  },
  {
   "cell_type": "code",
   "execution_count": 10,
   "metadata": {},
   "outputs": [],
   "source": [
    "def return_cluster(pixel):\n",
    "    min=np.linalg.norm(centroids[0] - pixel)\n",
    "    index=0\n",
    "    for i in range(k):\n",
    "        dist=np.linalg.norm(centroids[i] - pixel)\n",
    "        #We calculate distance of each cluster's centroid from a given pixel, and assign it to the cluster having minimum distance from the pixel\n",
    "        if dist < min:\n",
    "            index=i\n",
    "            min=dist\n",
    "    return index"
   ]
  },
  {
   "cell_type": "markdown",
   "metadata": {},
   "source": [
    "Applying K means Clustering to determine k = 32 centroids for a given image"
   ]
  },
  {
   "cell_type": "code",
   "execution_count": 11,
   "metadata": {},
   "outputs": [],
   "source": [
    "def calc_cluster_each_pixel():\n",
    "    i=0\n",
    "    #Here, cluster array stores what cluster each pixel is a part of, so its size is equal to the total number of pixels in the image\n",
    "    cluster=np.zeros(num_pixels)\n",
    "    for row in image:\n",
    "        for pixel in row:\n",
    "            #Here k is the index of the cluster the current pixel is a part of\n",
    "            k=return_cluster(pixel)\n",
    "            cluster[i]=k\n",
    "            i+=1\n",
    "    return cluster"
   ]
  },
  {
   "cell_type": "markdown",
   "metadata": {},
   "source": [
    "Re-computing the new Centroids based on the points in each cluster"
   ]
  },
  {
   "cell_type": "code",
   "execution_count": 12,
   "metadata": {},
   "outputs": [],
   "source": [
    "def re_compute_centroids(cluster):\n",
    "    centroids_old=centroids\n",
    "    sum_r=np.zeros(32)\n",
    "    sum_y=np.zeros(32)\n",
    "    sum_b=np.zeros(32)\n",
    "    count=np.zeros(32)\n",
    "    i=0\n",
    "    for row in image:\n",
    "        for pixel in row:\n",
    "            idx=int(cluster[i])\n",
    "            #Since image is 3 channel, centroid would be a 3 feature vector\n",
    "            sum_r[idx]+=pixel[0]\n",
    "            sum_y[idx]+=pixel[1]\n",
    "            sum_b[idx]+=pixel[2]\n",
    "            count[idx]+=1\n",
    "            i+=1\n",
    "\n",
    "    for j in range(k):\n",
    "        #computing centroid for each channel for a given cluster\n",
    "        centroids[j][0]=sum_r[j]/count[j]\n",
    "        centroids[j][1]=sum_y[j]/count[j]\n",
    "        centroids[j][2]=sum_b[j]/count[j]\n",
    "    \n",
    "    #Here we return the old value of the centroids so that it can be compared with the current centroid, which is a global variable\n",
    "    return centroids_old"
   ]
  },
  {
   "cell_type": "markdown",
   "metadata": {},
   "source": [
    "Main Calling thread, here the centroids would be computed iteratively until the convergence condition is met"
   ]
  },
  {
   "cell_type": "code",
   "execution_count": 13,
   "metadata": {},
   "outputs": [],
   "source": [
    "initialize_centroids()\n",
    "while True:\n",
    "    cluster=calc_cluster_each_pixel()\n",
    "    centroids_old=re_compute_centroids(cluster)\n",
    "    for j in range(k):\n",
    "        diff=np.linalg.norm(centroids[j] - centroids_old[j])\n",
    "    \n",
    "    #convergence condition, when the distance between the old and new centroids is less than 0.1 units\n",
    "    if diff <= 0.1:\n",
    "        break"
   ]
  },
  {
   "cell_type": "markdown",
   "metadata": {},
   "source": [
    "Compressing Image by replacing each pixel value with the corresponding centroid of the cluster it belongs to"
   ]
  },
  {
   "cell_type": "code",
   "execution_count": 14,
   "metadata": {},
   "outputs": [],
   "source": [
    "i=0; \n",
    "for row in range(height):\n",
    "    for pixel in range(width):\n",
    "        c=int(cluster[i])\n",
    "        image[row][pixel]=centroids[c]\n",
    "        i+=1\n",
    "\n",
    "cv.imshow('image', image)\n",
    "cv.waitKey(0) \n",
    "  \n",
    "cv.destroyAllWindows()         \n"
   ]
  }
 ],
 "metadata": {
  "interpreter": {
   "hash": "b3ba2566441a7c06988d0923437866b63cedc61552a5af99d1f4fb67d367b25f"
  },
  "kernelspec": {
   "display_name": "Python 3.9.7 ('base')",
   "language": "python",
   "name": "python3"
  },
  "language_info": {
   "codemirror_mode": {
    "name": "ipython",
    "version": 3
   },
   "file_extension": ".py",
   "mimetype": "text/x-python",
   "name": "python",
   "nbconvert_exporter": "python",
   "pygments_lexer": "ipython3",
   "version": "3.9.7"
  },
  "orig_nbformat": 4
 },
 "nbformat": 4,
 "nbformat_minor": 2
}
